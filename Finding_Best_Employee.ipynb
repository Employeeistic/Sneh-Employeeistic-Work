{
 "cells": [
  {
   "cell_type": "code",
   "execution_count": 1,
   "metadata": {},
   "outputs": [],
   "source": [
    "# libraries for data pre-processing\n",
    "import pandas as pd\n",
    "import numpy as np\n",
    "import random as rnd"
   ]
  },
  {
   "cell_type": "code",
   "execution_count": 2,
   "metadata": {},
   "outputs": [],
   "source": [
    "# loading the data\n",
    "file = r'EmployeeisticFinal.csv'"
   ]
  },
  {
   "cell_type": "code",
   "execution_count": 3,
   "metadata": {},
   "outputs": [],
   "source": [
    "# storing original data\n",
    "original_data = pd.read_csv(file)\n",
    "dummy_data = pd.read_csv(file)\n",
    "\n",
    "# data_length = len(original_data)\n",
    "original_data = original_data.dropna(axis=0, how='any')\n",
    "# original_data.head()"
   ]
  },
  {
   "cell_type": "code",
   "execution_count": 4,
   "metadata": {},
   "outputs": [],
   "source": [
    "# list to store the characteristics of the employee\n",
    "categories = []\n",
    "for col, value in original_data.iteritems():\n",
    "    if value.dtype == 'float64':\n",
    "        categories.append(col)\n",
    "        \n",
    "# storing object columns in another list\n",
    "object_list = original_data.columns.difference(categories)"
   ]
  },
  {
   "cell_type": "code",
   "execution_count": 5,
   "metadata": {},
   "outputs": [],
   "source": [
    "# making numeric data frame and removing unnecessary columns\n",
    "original_cat = original_data[categories]\n",
    "original_cat = original_cat.drop(['Age'], axis=1)"
   ]
  },
  {
   "cell_type": "code",
   "execution_count": 6,
   "metadata": {},
   "outputs": [],
   "source": [
    "# numeric data showing\n",
    "original_cat = pd.get_dummies(original_cat)\n",
    "# original_cat.head()"
   ]
  },
  {
   "cell_type": "code",
   "execution_count": 7,
   "metadata": {},
   "outputs": [],
   "source": [
    "# collecting columns to encode in numeric\n",
    "obj_features = ['client_review', 'hr_review', 'teammates_review']\n",
    "original_obj = original_data[obj_features]"
   ]
  },
  {
   "cell_type": "code",
   "execution_count": 8,
   "metadata": {},
   "outputs": [],
   "source": [
    "# showing all columns of object data frame\n",
    "# original_obj.head()"
   ]
  },
  {
   "cell_type": "code",
   "execution_count": 9,
   "metadata": {},
   "outputs": [],
   "source": [
    "# encoding the column by using rank maping\n",
    "original_map = {review : index for index, review in enumerate(['bad', 'average', 'good', 'excellent'])}\n",
    "# print(original_map)"
   ]
  },
  {
   "cell_type": "code",
   "execution_count": 10,
   "metadata": {},
   "outputs": [],
   "source": [
    "# replacing evry object data with numeric encoded data\n",
    "original_data.client_review = original_data.client_review.map(original_map)\n",
    "original_data.hr_review = original_data.hr_review.map(original_map)\n",
    "original_data.teammates_review = original_data.teammates_review.map(original_map)\n",
    "\n",
    "# showing numeric data of teammates_review\n",
    "# original_data['teammates_review']"
   ]
  },
  {
   "cell_type": "code",
   "execution_count": 11,
   "metadata": {},
   "outputs": [],
   "source": [
    "# based on numeric encoded data making new data frame for encoded value\n",
    "features = ['client_review', 'hr_review', 'teammates_review']\n",
    "original_data_obj_df = original_data[features]\n",
    "# original_data_obj_df.head()"
   ]
  },
  {
   "cell_type": "code",
   "execution_count": 12,
   "metadata": {},
   "outputs": [],
   "source": [
    "name_df = original_data['Employees Name']\n",
    "# name_df"
   ]
  },
  {
   "cell_type": "code",
   "execution_count": 13,
   "metadata": {},
   "outputs": [],
   "source": [
    "# concating the numeric and encoded data frames\n",
    "frames = [name_df, original_cat, original_data_obj_df]\n",
    "final_df = pd.concat(frames, axis=1)\n",
    "# final_df.head()"
   ]
  },
  {
   "cell_type": "code",
   "execution_count": 14,
   "metadata": {},
   "outputs": [],
   "source": [
    "# checking for null\n",
    "# final_df.isnull().sum()"
   ]
  },
  {
   "cell_type": "code",
   "execution_count": 15,
   "metadata": {},
   "outputs": [],
   "source": [
    "# final_df.duplicated()"
   ]
  },
  {
   "cell_type": "code",
   "execution_count": 16,
   "metadata": {},
   "outputs": [],
   "source": [
    "# datatype must be numeric\n",
    "# final_df.dtypes"
   ]
  },
  {
   "cell_type": "code",
   "execution_count": 17,
   "metadata": {},
   "outputs": [],
   "source": [
    "# changing the columns name to remove (space, \\n and \\t) from the name\n",
    "original_columns = final_df.columns\n",
    "new_col = ['employees_name', 'completed_projects', 'client_rating', 'hr_rating', 'teammates_rating', 'profit', 'loss', 'c_cpp', 'c_sharp', 'php', 'python',\\\n",
    "          'java', 'javascript', 'networking', 'database_management', 'seo', 'debugging', 'digital_media_marketing', 'network_security', \\\n",
    "          'qa', 'ui_ux', 'project_planning', 'quality_control', 'budget_planning', 'best_performance', 'client_review', 'hr_review', 'teammates_review']\n",
    "\n",
    "# renamming the columns\n",
    "final_df = final_df.rename(columns=dict(zip(original_columns, new_col)))\n",
    "\n",
    "# showing final data frame\n",
    "# final_df.head()\n",
    "columns = [final_df.columns]\n",
    "# print(columns)"
   ]
  },
  {
   "cell_type": "code",
   "execution_count": 18,
   "metadata": {},
   "outputs": [],
   "source": [
    "total_employees = final_df.shape[0]\n",
    "# total_employees"
   ]
  },
  {
   "cell_type": "code",
   "execution_count": 19,
   "metadata": {},
   "outputs": [],
   "source": [
    "# final_df.info()"
   ]
  },
  {
   "cell_type": "code",
   "execution_count": 20,
   "metadata": {},
   "outputs": [],
   "source": [
    "# feature list which needed to find the employee\n",
    "features_of_python_developer = ['employees_name', 'profit', 'loss', 'python', 'client_review', 'hr_review', 'teammates_review']"
   ]
  },
  {
   "cell_type": "code",
   "execution_count": 21,
   "metadata": {},
   "outputs": [],
   "source": [
    "# making new dataframe to codpy employees\n",
    "employee_with_all_skills = final_df\n",
    "# employee_with_all_skills"
   ]
  },
  {
   "cell_type": "code",
   "execution_count": 30,
   "metadata": {},
   "outputs": [
    {
     "name": "stdin",
     "output_type": "stream",
     "text": [
      " python\n"
     ]
    },
    {
     "name": "stdout",
     "output_type": "stream",
     "text": [
      "Andrew Strauss\n"
     ]
    }
   ],
   "source": [
    "# getting programming languages/skills\n",
    "inputs = input()\n",
    "input_list = inputs.split()\n",
    "\n",
    "# splitting the languages in the list\n",
    "list_names = []\n",
    "n = len(input_list)\n",
    "\n",
    "# this code works for one programming language\n",
    "for i in range(0, n):\n",
    "    employees_fetched = employee_with_all_skills[(employee_with_all_skills[input_list[i]] > 8.0)]\n",
    "\n",
    "employees_fetched = employees_fetched[(employees_fetched['profit'] > 80.00) &\n",
    "                                     (employees_fetched['hr_review'] >= 2) &\n",
    "                                     (employees_fetched['client_review'] >= 2) &\n",
    "                                     (employees_fetched['teammates_review'] >= 2)]\n",
    "\n",
    "for i in employees_fetched['employees_name']:\n",
    "    list_names.append(i)\n",
    "\n",
    "for x in list_names:\n",
    "    print(x, end=\"\\n\")\n",
    "    "
   ]
  }
 ],
 "metadata": {
  "kernelspec": {
   "display_name": "Python 3",
   "language": "python",
   "name": "python3"
  },
  "language_info": {
   "codemirror_mode": {
    "name": "ipython",
    "version": 3
   },
   "file_extension": ".py",
   "mimetype": "text/x-python",
   "name": "python",
   "nbconvert_exporter": "python",
   "pygments_lexer": "ipython3",
   "version": "3.8.6"
  }
 },
 "nbformat": 4,
 "nbformat_minor": 4
}
